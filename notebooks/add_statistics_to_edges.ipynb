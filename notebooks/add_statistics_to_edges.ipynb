{
 "cells": [
  {
   "cell_type": "markdown",
   "metadata": {},
   "source": [
    "# Add statistical information to edges:\n",
    "\n",
    "In this notebook, the statistical data computed in `compute_mean_std.ipynb` and saved in `delay_distribution_percentiles.orc` are loaded and added to the edges of our network (saved to `edges_with_mean_and_std_sec.orc`, in the home of the current user). This will later be used to create a network."
   ]
  },
  {
   "cell_type": "markdown",
   "metadata": {},
   "source": [
    "## Set up:"
   ]
  },
  {
   "cell_type": "code",
   "execution_count": null,
   "metadata": {},
   "outputs": [],
   "source": [
    "%%configure\n",
    "{\"conf\": {\n",
    "    \"spark.app.name\": \"dslab-group_final\"\n",
    "}}"
   ]
  },
  {
   "cell_type": "code",
   "execution_count": null,
   "metadata": {},
   "outputs": [],
   "source": [
    "from pyspark.sql.functions import col, udf, lit\n",
    "from pyspark.sql.types import IntegerType"
   ]
  },
  {
   "cell_type": "markdown",
   "metadata": {},
   "source": [
    "### Load data:"
   ]
  },
  {
   "cell_type": "code",
   "execution_count": null,
   "metadata": {},
   "outputs": [],
   "source": [
    "edges_df = spark.read.orc(\"/user/liseli/edges.orc\")\n",
    "delays = spark.read.orc(\"/user/liseli/delay_distribution_percentiles.orc\")\n",
    "trips = spark.read.format('orc').load('/data/sbb/timetables/orc/trips/000000_0')\n",
    "routes = spark.read.format('orc').load('/data/sbb/timetables/orc/routes/000000_0')\n",
    "\n",
    "edges_with_route = trips.join(routes, 'route_id').select(col('trip_id'), col('route_desc')).distinct()\\\n",
    "                        .join(edges_df, 'trip_id')\n",
    "edges_with_route.show()"
   ]
  },
  {
   "cell_type": "markdown",
   "metadata": {},
   "source": [
    "### Add transportation type and mean,std:"
   ]
  },
  {
   "cell_type": "markdown",
   "metadata": {},
   "source": [
    "Create a dictionnary for transportation types:"
   ]
  },
  {
   "cell_type": "code",
   "execution_count": null,
   "metadata": {},
   "outputs": [],
   "source": [
    "translate_route_desc = {\n",
    "    'TGV': 'TGV',\n",
    "    'Eurocity': 'EC',\n",
    "    'tandseilbahn': 'AT',\n",
    "    'Regionalzug': 'R',\n",
    "    'RegioExpress': 'RE',\n",
    "    'S-Bahn': 'S',\n",
    "    'Luftseilbahn': '',\n",
    "    'Sesselbahn': '',\n",
    "    'Taxi': '',\n",
    "    'Fähre': '',\n",
    "    'Tram': 'Tram',\n",
    "    'ICE': 'ICE',\n",
    "    'Bus': 'Bus',\n",
    "    'Gondelbahn': '',\n",
    "    'Nacht-Zug': '',\n",
    "    'Standseilbahn': 'AT',\n",
    "    'Auoreisezug': 'ARZ',\n",
    "    'Eurostar': 'EC',\n",
    "    'Schiff': '',\n",
    "    'Schnellzug': 'TGV',\n",
    "    'Intercity': 'IC',\n",
    "    'InterRegio': 'IR',\n",
    "    'Extrazug': 'EXT',\n",
    "    'Metro': 'Metro'\n",
    "}"
   ]
  },
  {
   "cell_type": "code",
   "execution_count": null,
   "metadata": {},
   "outputs": [],
   "source": [
    "@udf(\"string\")\n",
    "def translate_dict(text):\n",
    "    return translate_route_desc[text]\n",
    "\n",
    "@udf('string')\n",
    "def truncate_stop_id_column(s):\n",
    "    return s.split(':')[0]\n",
    "\n",
    "@udf('string')\n",
    "def truncate_stop_id_len(s):\n",
    "    return str(s)[:7]\n",
    "\n",
    "@udf('long')\n",
    "def leng(s):\n",
    "    return len(str(s))"
   ]
  },
  {
   "cell_type": "code",
   "execution_count": null,
   "metadata": {},
   "outputs": [],
   "source": [
    "edges_with_route = edges_with_route.withColumn('route_desc_translated', translate_dict(col('route_desc')))\\\n",
    "                                       .withColumn('hour', (col('arrival_time')/60).cast(IntegerType()))\\\n",
    "                                       .withColumn('truncated_stop_id', truncate_stop_id_column(col('stop_id'))).cache()"
   ]
  },
  {
   "cell_type": "code",
   "execution_count": null,
   "metadata": {},
   "outputs": [],
   "source": [
    "delays = delays.select((col('mean')/60).alias('mean'), (col('std')/60).alias('std'),\n",
    "                       (col('p_90')/60).alias('p_90'), (col('p_91')/60).alias('p_91'), (col('p_92')/60).alias('p_92'), (col('p_93')/60).alias('p_93'), (col('p_94')/60).alias('p_94'), (col('p_95')/60).alias('p_95'), (col('p_96')/60).alias('p_96'), (col('p_97')/60).alias('p_97'), (col('p_98')/60).alias('p_98'), (col('p_99')/60).alias('p_99'),\n",
    "                       col('hour').alias('hour_2'), col('stop_id').alias('stop_id_2'), col('verkehrsmittel_text'))\\\n",
    "               .withColumn('truncated_stop_id', truncate_stop_id_len(col('stop_id_2')))"
   ]
  },
  {
   "cell_type": "code",
   "execution_count": null,
   "metadata": {},
   "outputs": [],
   "source": [
    "edges_final = edges_with_route.join(delays, (edges_with_route.hour == delays.hour_2) &\\\n",
    "                                            (edges_with_route.truncated_stop_id == delays.truncated_stop_id) &\\\n",
    "                                            (edges_with_route.route_desc_translated == delays.verkehrsmittel_text), how='left')"
   ]
  },
  {
   "cell_type": "markdown",
   "metadata": {},
   "source": [
    "Create edges dataframe with the following information:\n",
    " - trip_id\n",
    " - stop_id\n",
    " - train_type\n",
    " - arrival_time\n",
    " - departure_time\n",
    " - next_stop\n",
    " - trip_duration\n",
    " - mean\n",
    " - std \n",
    " \n",
    "From the original edges dataframe (from `edges.orc`, we now add mean, std and train information)"
   ]
  },
  {
   "cell_type": "code",
   "execution_count": null,
   "metadata": {},
   "outputs": [],
   "source": [
    "edges_final = edges_final.select('trip_id', 'stop_id', col('route_desc').alias('train_type'),\n",
    "                                 'arrival_time', 'departure_time', 'next_stop', 'trip_duration', 'mean', 'std',\n",
    "                                 'p_90', 'p_91', 'p_92', 'p_93', 'p_94', 'p_95', 'p_96', 'p_97', 'p_98', 'p_99').cache()"
   ]
  },
  {
   "cell_type": "markdown",
   "metadata": {},
   "source": [
    "#### Check how many edges have no mean or std information:"
   ]
  },
  {
   "cell_type": "code",
   "execution_count": null,
   "metadata": {},
   "outputs": [],
   "source": [
    "print('Proportion of null values:\\n\\tMean: {:.2f}%'\n",
    "      .format(edges_final.filter(col('mean').isNull()).count() / float(edges_final.count()) * 100))\n",
    "print('\\tStd: {:.2f}%'.format(edges_final.filter(col('std').isNull()).count() / float(edges_final.count()) * 100))"
   ]
  },
  {
   "cell_type": "markdown",
   "metadata": {},
   "source": [
    "Notice that most edges have statistical information about the mean and std. For those that have no values, we will replace the mean by the duration of the trip and std by 0 in further computations. "
   ]
  },
  {
   "cell_type": "markdown",
   "metadata": {},
   "source": [
    "#### Write the edges to orc:"
   ]
  },
  {
   "cell_type": "code",
   "execution_count": null,
   "metadata": {},
   "outputs": [],
   "source": [
    "%%local\n",
    "import os\n",
    "username = os.environ['JUPYTERHUB_USER']"
   ]
  },
  {
   "cell_type": "code",
   "execution_count": null,
   "metadata": {},
   "outputs": [],
   "source": [
    "%%send_to_spark -i username -t str -n username"
   ]
  },
  {
   "cell_type": "code",
   "execution_count": null,
   "metadata": {},
   "outputs": [],
   "source": [
    "edges_final.write.format(\"orc\").mode('overwrite').save(\"/user/{}/edges_with_mean_and_std_sec.orc\".format(username))"
   ]
  }
 ],
 "metadata": {
  "kernelspec": {
   "display_name": "PySpark",
   "language": "",
   "name": "pysparkkernel"
  },
  "language_info": {
   "codemirror_mode": {
    "name": "python",
    "version": 3
   },
   "mimetype": "text/x-python",
   "name": "pyspark",
   "pygments_lexer": "python3"
  }
 },
 "nbformat": 4,
 "nbformat_minor": 4
}
